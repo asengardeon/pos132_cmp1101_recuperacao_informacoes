{
 "cells": [
  {
   "cell_type": "markdown",
   "metadata": {},
   "source": [
    "Expressões regulares (regex, regexp) são uma linguagem que nos permitem definir padrões que devem ser encontrados em `strings`.\n",
    "\n",
    "Algumas fontes sobre expressões regulares:\n",
    "* https://www.regular-expressions.info/\n",
    "* https://regexr.com/\n",
    "* https://regex101.com/"
   ]
  },
  {
   "cell_type": "markdown",
   "metadata": {},
   "source": [
    "Normalmente, a informação é disponibilizada de uma forma estruturada que é fácil para uma pessoa entender.\n",
    "Entretanto, a mesma informação é difícil de ser estruturada para um computador.\n",
    "\n",
    "Se a informação possui, de fato, algum tipo de estrutura, é possível estraí-la com uma (ou mais) expressão regular.\n",
    "\n",
    "Vamos ao exemplo..."
   ]
  },
  {
   "cell_type": "code",
   "execution_count": 19,
   "metadata": {},
   "outputs": [],
   "source": [
    "# lista de top 10 livros mais vistos no dia anterior no Projeto Gutenberg\n",
    "# http://www.gutenberg.org/browse/scores/top\n",
    "top_10 = '''\n",
    "1. The Works of Edgar Allan Poe, The Raven Edition by Edgar Allan Poe (1525)\n",
    "2. Pride and Prejudice by Jane Austen (1302)\n",
    "3. Frankenstein; Or, The Modern Prometheus by Mary Wollstonecraft Shelley (995)\n",
    "4. A Modest Proposal by Jonathan Swift (674)\n",
    "5. Beowulf: An Anglo-Saxon Epic Poem (658)\n",
    "6. Moby Dick; Or, The Whale by Herman Melville (600)\n",
    "7. The Strange Case of Dr. Jekyll and Mr. Hyde by Robert Louis Stevenson (560)\n",
    "8. The Adventures of Sherlock Holmes by Arthur Conan Doyle (547)\n",
    "9. A Tale of Two Cities by Charles Dickens (491)\n",
    "10. Ulysses by James Joyce (481)\n",
    "'''"
   ]
  },
  {
   "cell_type": "markdown",
   "metadata": {},
   "source": [
    "A lista acima apresenta quatro informações de forma semi estruturada.\n",
    "Este seria um template básico das informações:\n",
    "    \n",
    "`<posição>. <nome da obra> by <nome do autor> (acessos)`\n",
    "\n",
    "Dada essa estrutura, é possível extrair o conteúdo com expressões regulares"
   ]
  },
  {
   "cell_type": "code",
   "execution_count": 20,
   "metadata": {},
   "outputs": [],
   "source": [
    "# módulo do python para trabalhar com expressões regulares\n",
    "import re\n",
    "\n",
    "# para simplificar, separamos as linhas\n",
    "lista_top_10 = top_10.splitlines()\n",
    "lista_top_10 = lista_top_10[1:]"
   ]
  },
  {
   "cell_type": "code",
   "execution_count": 25,
   "metadata": {},
   "outputs": [
    {
     "name": "stdout",
     "output_type": "stream",
     "text": [
      "Posição: 1\n",
      "Posição: 1\n"
     ]
    }
   ],
   "source": [
    "# extrair a <posição> no começo da linha\n",
    "match = re.search('^\\d', lista_top_10[0])\n",
    "print('Posição:', match.group(0))\n",
    "print('Posição:', match[0])"
   ]
  },
  {
   "cell_type": "markdown",
   "metadata": {},
   "source": [
    "Na notação de epressão regular, `\\d` significa \"Qualquer número\", ou seja, 0, 1, 2, 3, 4, 5, 6, 7, 8, 9.\n",
    "Note que é apenas um número apenas, se precisar de dois números, deve ser `\\d\\d`.\n",
    "\n",
    "O caractére `^` indica que deve procurar no ínicio da string.\n",
    "\n",
    "`\\d` é uma abreviação para a expressão [0-9] que será demonstrada abaixo"
   ]
  },
  {
   "cell_type": "markdown",
   "metadata": {},
   "source": [
    "Qual a diferença de `re.search` e `re.match`?\n",
    "\n",
    "Resposta: ...\n",
    "\n",
    "Dica: Procure na documentação do python."
   ]
  },
  {
   "cell_type": "code",
   "execution_count": 30,
   "metadata": {},
   "outputs": [
    {
     "name": "stdout",
     "output_type": "stream",
     "text": [
      "Posição: 10\n",
      "Posição: 10\n"
     ]
    }
   ],
   "source": [
    "# extrair a <posição> do último item da lista\n",
    "match = re.search('^\\d\\d', lista_top_10[-1]) # note \\d\\d\n",
    "print('Posição:', match.group(0))\n",
    "print('Posição:', match[0])"
   ]
  },
  {
   "cell_type": "markdown",
   "metadata": {},
   "source": [
    "Entretanto, esse padrão deveria ser flexível para pegar qualquer número até o caractére `.`.\n",
    "Portanto, é possível usar quantificadores `*`, `+` ou `{n[, m]}`.\n",
    "\n",
    "* `*`: Zero ou mais ocorrências do padrão.\n",
    "    * Exemplo: `\\d*` captura zero ou mais ocorrências de qualquer número (`''`, `'2'`, `'12'`, `''4565`)\n",
    "* `+`: Uma ou mais ocorrências do padrão.\n",
    "    * Exemplo: `\\d+` captura zero ou mais ocorrências de qualquer número (`'2'`, `'12'`, `''4565`)\n",
    "* `{n}`: Exatamente `n` ocorrências do padrão.\n",
    "    * Exemplo: `\\d{2}` captura exatamente dois números seguidos, equivalente à `\\d\\d` (`'10'`, `'78'`)\n",
    "* `{n,}`: Ao menos `n` ocorrências do padrão.\n",
    "    * Exemplo: `\\d{2,}` captura ao menos dois números seguidos (`'10'`, `'078'`, `'78912'`)\n",
    "* `{n,m}`: Ao menos `n` ocorrências do padrão e no máximo `m`.\n",
    "    * Exemplo: `\\d{2,4}` captura ao menos dois números seguidos e no máximo quatro (`'10'`, `'078'`, `'7892'`)\n",
    "\n",
    "Para o exemplo da posição, sabemos que sempre existirá um número, portanto `+` ou `{1,}` podem ser utilizados."
   ]
  },
  {
   "cell_type": "code",
   "execution_count": 32,
   "metadata": {},
   "outputs": [
    {
     "name": "stdout",
     "output_type": "stream",
     "text": [
      "Posição: 10\n",
      "Posição: 10\n",
      "Posição: 1\n",
      "Posição: 1\n"
     ]
    }
   ],
   "source": [
    "# extrair a <posição> do último item da lista\n",
    "match = re.search('^\\d+', lista_top_10[-1])\n",
    "print('Posição:', match.group(0))\n",
    "print('Posição:', match[0])\n",
    "\n",
    "match = re.search('^\\d+', lista_top_10[0])\n",
    "print('Posição:', match.group(0))\n",
    "print('Posição:', match[0])"
   ]
  },
  {
   "cell_type": "markdown",
   "metadata": {},
   "source": [
    "Agora é possível pegar o número de visualizações no último dia ao final da string.\n",
    "\n",
    "Para simplificar, vamos pegar apenas as ocorrências por enquanto, no final juntaremos tudo em uma expressão.\n",
    "\n",
    "Como é um número, `\\d` pode ser utilizado e como sabemos que existe ao menos um número, `+` também pode ser utilizado."
   ]
  },
  {
   "cell_type": "code",
   "execution_count": 33,
   "metadata": {},
   "outputs": [
    {
     "name": "stdout",
     "output_type": "stream",
     "text": [
      "Visualizações: (1525)\n",
      "Visualizações: (1525)\n"
     ]
    }
   ],
   "source": [
    "match = re.search('\\(\\d+\\)$', lista_top_10[0])\n",
    "print('Visualizações:', match.group(0))\n",
    "print('Visualizações:', match[0])"
   ]
  },
  {
   "cell_type": "markdown",
   "metadata": {},
   "source": [
    "Algumas pontos à serem notados:\n",
    "* `$` foi utilizado para denotar que a busca deve ser feita no final da `string` e não no começo `^`\n",
    "* `\\(` e não apenas `(` para notar o `(` no texto.\n",
    "    * O caractére `(` faz parte da linguagem de expressão regular, portanto, temos que utilizar o `\\` antes.\n",
    "* Escrever apenas o padrão `\\(` faz a busca por esse padrão\n",
    "* A existência de `()` na saída, mas queremos apenas os números\n",
    "\n",
    "Vamos explorar um pouco o ponto _Escrever apenas o padrão `\\(` faz a busca por esse padrão_"
   ]
  },
  {
   "cell_type": "code",
   "execution_count": 37,
   "metadata": {},
   "outputs": [
    {
     "name": "stdout",
     "output_type": "stream",
     "text": [
      "Algo\n",
      "Algo\n",
      "por\n",
      "por\n",
      "aqui\n",
      "aqui\n",
      "Al\n",
      "Al\n"
     ]
    }
   ],
   "source": [
    "match = re.search('Algo', 'Algo por aqui')\n",
    "print(match.group(0))\n",
    "print(match[0])\n",
    "\n",
    "match = re.search('por', 'Algo por aqui')\n",
    "print(match.group(0))\n",
    "print(match[0])\n",
    "\n",
    "match = re.search('aqui', 'Algo por aqui')\n",
    "print(match.group(0))\n",
    "print(match[0])\n",
    "\n",
    "match = re.search('Al', 'Algo por aqui')\n",
    "print(match.group(0))\n",
    "print(match[0])"
   ]
  },
  {
   "cell_type": "markdown",
   "metadata": {},
   "source": [
    "Note que qualquer texto funciona como uma expressão regular.\n",
    "Porém, eles não são muito úteis diretamente, visto que já sabemos o conteúdo.\n",
    "O verdadeiro uso é para delimitar partes do texto, por exemplo `()` no exemplo anterior.\n",
    "Ou `by` para separar o `<nome da obra>` do `<nome do autor>` como veremos adiante.\n",
    "\n",
    "O outro ponto a ser explorado é como remover os `()` da saída.\n",
    "Para isso precisamos de grupos, delimitados por `()` (lembra que foi mencionado que `()` fazem parte das expressões regulares?).\n",
    "\n",
    "Um grupo é simplesmente um padrão entre `()` e ele pode ser referenciado posteriormente.\n",
    "No exemplo para coletar as visualizações.."
   ]
  },
  {
   "cell_type": "code",
   "execution_count": 39,
   "metadata": {},
   "outputs": [
    {
     "name": "stdout",
     "output_type": "stream",
     "text": [
      "Visualizações: 1525\n",
      "Visualizações: 1525\n"
     ]
    }
   ],
   "source": [
    "match = re.search('\\((\\d+)\\)$', lista_top_10[0]) # note o grupo (\\d+) dentro dos delimitadores \\(\\)\n",
    "print('Visualizações:', match.group(1)) # note que não é mais 0\n",
    "print('Visualizações:', match[1]) # note que não é mais 0"
   ]
  },
  {
   "cell_type": "code",
   "execution_count": 45,
   "metadata": {},
   "outputs": [
    {
     "name": "stdout",
     "output_type": "stream",
     "text": [
      "Visualizações: 1525\n",
      "Visualizações: 1525\n"
     ]
    }
   ],
   "source": [
    "# também é possível dar nome ao grupo\n",
    "match = re.search('\\((?P<visualizacoes>\\d+)\\)$', lista_top_10[0]) # note o grupo (\\d+) dentro dos delimitadores \\(\\)\n",
    "print('Visualizações:', match.group('visualizacoes')) # note o uso do nome\n",
    "print('Visualizações:', match['visualizacoes']) # note o uso do nome"
   ]
  },
  {
   "cell_type": "code",
   "execution_count": null,
   "metadata": {},
   "outputs": [],
   "source": []
  }
 ],
 "metadata": {
  "kernelspec": {
   "display_name": "Python 3",
   "language": "python",
   "name": "python3"
  },
  "language_info": {
   "codemirror_mode": {
    "name": "ipython",
    "version": 3
   },
   "file_extension": ".py",
   "mimetype": "text/x-python",
   "name": "python",
   "nbconvert_exporter": "python",
   "pygments_lexer": "ipython3",
   "version": "3.6.8"
  }
 },
 "nbformat": 4,
 "nbformat_minor": 2
}
