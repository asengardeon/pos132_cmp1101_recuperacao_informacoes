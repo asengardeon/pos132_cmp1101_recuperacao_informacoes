{
 "cells": [
  {
   "cell_type": "markdown",
   "metadata": {},
   "source": [
    "Expressões regulares (regex, regexp) são uma linguagem que nos permitem definir padrões que devem ser encontrados em `strings`.\n",
    "\n",
    "Algumas fontes sobre expressões regulares:\n",
    "* https://www.regular-expressions.info/\n",
    "* https://regexr.com/\n",
    "* https://regex101.com/"
   ]
  },
  {
   "cell_type": "markdown",
   "metadata": {},
   "source": [
    "Normalmente, a informação é disponibilizada de uma forma estruturada que é fácil para uma pessoa entender.\n",
    "Entretanto, a mesma informação é difícil de ser estruturada para um computador.\n",
    "\n",
    "Se a informação possui, de fato, algum tipo de estrutura, é possível estraí-la com uma (ou mais) expressão regular.\n",
    "\n",
    "Vamos ao exemplo..."
   ]
  },
  {
   "cell_type": "code",
   "execution_count": 1,
   "metadata": {},
   "outputs": [],
   "source": [
    "# lista de top 10 livros mais vistos no dia anterior no Projeto Gutenberg\n",
    "# http://www.gutenberg.org/browse/scores/top\n",
    "top_10 = '''\n",
    "1. The Works of Edgar Allan Poe, The Raven Edition by Edgar Allan Poe (1525)\n",
    "2. Pride and Prejudice by Jane Austen (1302)\n",
    "3. Frankenstein; Or, The Modern Prometheus by Mary Wollstonecraft Shelley (995)\n",
    "4. A Modest Proposal by Jonathan Swift (674)\n",
    "5. Beowulf: An Anglo-Saxon Epic Poem (658)\n",
    "6. Moby Dick; Or, The Whale by Herman Melville (600)\n",
    "7. The Strange Case of Dr. Jekyll and Mr. Hyde by Robert Louis Stevenson (560)\n",
    "8. The Adventures of Sherlock Holmes by Arthur Conan Doyle (547)\n",
    "9. A Tale of Two Cities by Charles Dickens (491)\n",
    "10. Ulysses by James Joyce (481)\n",
    "'''"
   ]
  },
  {
   "cell_type": "markdown",
   "metadata": {},
   "source": [
    "A lista acima apresenta quatro informações de forma semi estruturada.\n",
    "Este seria um template básico das informações:\n",
    "    \n",
    "`<posição>. <nome da obra> by <nome do autor> (acessos)`\n",
    "\n",
    "Dada essa estrutura, é possível extrair o conteúdo com expressões regulares"
   ]
  },
  {
   "cell_type": "code",
   "execution_count": 2,
   "metadata": {},
   "outputs": [],
   "source": [
    "# módulo do python para trabalhar com expressões regulares\n",
    "import re\n",
    "\n",
    "# para simplificar, separamos as linhas\n",
    "lista_top_10 = top_10.splitlines()\n",
    "lista_top_10 = lista_top_10[1:]"
   ]
  },
  {
   "cell_type": "code",
   "execution_count": 3,
   "metadata": {},
   "outputs": [
    {
     "name": "stdout",
     "output_type": "stream",
     "text": [
      "Posição: 1\n",
      "Posição: 1\n"
     ]
    }
   ],
   "source": [
    "# extrair a <posição> no começo da linha\n",
    "match = re.search('^\\d', lista_top_10[0])\n",
    "print('Posição:', match.group(0))\n",
    "print('Posição:', match[0])"
   ]
  },
  {
   "cell_type": "markdown",
   "metadata": {},
   "source": [
    "Na notação de epressão regular, `\\d` significa \"Qualquer número\", ou seja, 0, 1, 2, 3, 4, 5, 6, 7, 8, 9.\n",
    "Note que é apenas um número apenas, se precisar de dois números, deve ser `\\d\\d`.\n",
    "\n",
    "O caractére `^` indica que deve procurar no ínicio da string.\n",
    "\n",
    "`\\d` é uma abreviação para a expressão [0-9] que será demonstrada abaixo"
   ]
  },
  {
   "cell_type": "markdown",
   "metadata": {},
   "source": [
    "Qual a diferença de `re.search` e `re.match`?\n",
    "\n",
    "Resposta: ...\n",
    "\n",
    "Dica: Procure na documentação do python."
   ]
  },
  {
   "cell_type": "code",
   "execution_count": 4,
   "metadata": {},
   "outputs": [
    {
     "name": "stdout",
     "output_type": "stream",
     "text": [
      "Posição: 10\n",
      "Posição: 10\n"
     ]
    }
   ],
   "source": [
    "# extrair a <posição> do último item da lista\n",
    "match = re.search('^\\d\\d', lista_top_10[-1]) # note \\d\\d\n",
    "print('Posição:', match.group(0))\n",
    "print('Posição:', match[0])"
   ]
  },
  {
   "cell_type": "markdown",
   "metadata": {},
   "source": [
    "Entretanto, esse padrão deveria ser flexível para pegar qualquer número até o caractére `.`.\n",
    "Portanto, é possível usar quantificadores `*`, `+` ou `{n[, m]}`.\n",
    "\n",
    "* `*`: Zero ou mais ocorrências do padrão.\n",
    "    * Exemplo: `\\d*` captura zero ou mais ocorrências de qualquer número (`''`, `'2'`, `'12'`, `''4565`)\n",
    "* `+`: Uma ou mais ocorrências do padrão.\n",
    "    * Exemplo: `\\d+` captura zero ou mais ocorrências de qualquer número (`'2'`, `'12'`, `''4565`)\n",
    "* `{n}`: Exatamente `n` ocorrências do padrão.\n",
    "    * Exemplo: `\\d{2}` captura exatamente dois números seguidos, equivalente à `\\d\\d` (`'10'`, `'78'`)\n",
    "* `{n,}`: Ao menos `n` ocorrências do padrão.\n",
    "    * Exemplo: `\\d{2,}` captura ao menos dois números seguidos (`'10'`, `'078'`, `'78912'`)\n",
    "* `{n,m}`: Ao menos `n` ocorrências do padrão e no máximo `m`.\n",
    "    * Exemplo: `\\d{2,4}` captura ao menos dois números seguidos e no máximo quatro (`'10'`, `'078'`, `'7892'`)\n",
    "\n",
    "Para o exemplo da posição, sabemos que sempre existirá um número, portanto `+` ou `{1,}` podem ser utilizados."
   ]
  },
  {
   "cell_type": "code",
   "execution_count": 5,
   "metadata": {},
   "outputs": [
    {
     "name": "stdout",
     "output_type": "stream",
     "text": [
      "Posição: 10\n",
      "Posição: 10\n",
      "Posição: 1\n",
      "Posição: 1\n"
     ]
    }
   ],
   "source": [
    "# extrair a <posição> do último item da lista\n",
    "match = re.search('^\\d+', lista_top_10[-1])\n",
    "print('Posição:', match.group(0))\n",
    "print('Posição:', match[0])\n",
    "\n",
    "match = re.search('^\\d+', lista_top_10[0])\n",
    "print('Posição:', match.group(0))\n",
    "print('Posição:', match[0])"
   ]
  },
  {
   "cell_type": "markdown",
   "metadata": {},
   "source": [
    "Agora é possível pegar o número de visualizações no último dia ao final da string.\n",
    "\n",
    "Para simplificar, vamos pegar apenas as ocorrências por enquanto, no final juntaremos tudo em uma expressão.\n",
    "\n",
    "Como é um número, `\\d` pode ser utilizado e como sabemos que existe ao menos um número, `+` também pode ser utilizado."
   ]
  },
  {
   "cell_type": "code",
   "execution_count": 6,
   "metadata": {},
   "outputs": [
    {
     "name": "stdout",
     "output_type": "stream",
     "text": [
      "Visualizações: (1525)\n",
      "Visualizações: (1525)\n"
     ]
    }
   ],
   "source": [
    "match = re.search('\\(\\d+\\)$', lista_top_10[0])\n",
    "print('Visualizações:', match.group(0))\n",
    "print('Visualizações:', match[0])"
   ]
  },
  {
   "cell_type": "markdown",
   "metadata": {},
   "source": [
    "Algumas pontos à serem notados:\n",
    "* `$` foi utilizado para denotar que a busca deve ser feita no final da `string` e não no começo `^`\n",
    "* `\\(` e não apenas `(` para notar o `(` no texto.\n",
    "    * O caractére `(` faz parte da linguagem de expressão regular, portanto, temos que utilizar o `\\` antes.\n",
    "* Escrever apenas o padrão `\\(` faz a busca por esse padrão\n",
    "* A existência de `()` na saída, mas queremos apenas os números\n",
    "\n",
    "Vamos explorar um pouco o ponto _Escrever apenas o padrão `\\(` faz a busca por esse padrão_"
   ]
  },
  {
   "cell_type": "code",
   "execution_count": 7,
   "metadata": {},
   "outputs": [
    {
     "name": "stdout",
     "output_type": "stream",
     "text": [
      "Algo\n",
      "Algo\n",
      "por\n",
      "por\n",
      "aqui\n",
      "aqui\n",
      "Al\n",
      "Al\n"
     ]
    }
   ],
   "source": [
    "match = re.search('Algo', 'Algo por aqui')\n",
    "print(match.group(0))\n",
    "print(match[0])\n",
    "\n",
    "match = re.search('por', 'Algo por aqui')\n",
    "print(match.group(0))\n",
    "print(match[0])\n",
    "\n",
    "match = re.search('aqui', 'Algo por aqui')\n",
    "print(match.group(0))\n",
    "print(match[0])\n",
    "\n",
    "match = re.search('Al', 'Algo por aqui')\n",
    "print(match.group(0))\n",
    "print(match[0])"
   ]
  },
  {
   "cell_type": "markdown",
   "metadata": {},
   "source": [
    "Note que qualquer texto funciona como uma expressão regular.\n",
    "Porém, eles não são muito úteis diretamente, visto que já sabemos o conteúdo.\n",
    "O verdadeiro uso é para delimitar partes do texto, por exemplo `()` no exemplo anterior.\n",
    "Ou `by` para separar o `<nome da obra>` do `<nome do autor>` como veremos adiante.\n",
    "\n",
    "O outro ponto a ser explorado é como remover os `()` da saída.\n",
    "Para isso precisamos de grupos, delimitados por `()` (lembra que foi mencionado que `()` fazem parte das expressões regulares?).\n",
    "\n",
    "Um grupo é simplesmente um padrão entre `()` e ele pode ser referenciado posteriormente.\n",
    "No exemplo para coletar as visualizações.."
   ]
  },
  {
   "cell_type": "code",
   "execution_count": 8,
   "metadata": {},
   "outputs": [
    {
     "name": "stdout",
     "output_type": "stream",
     "text": [
      "Visualizações: 1525\n",
      "Visualizações: 1525\n"
     ]
    }
   ],
   "source": [
    "match = re.search('\\((\\d+)\\)$', lista_top_10[0]) # note o grupo (\\d+) dentro dos delimitadores \\(\\)\n",
    "print('Visualizações:', match.group(1)) # note que não é mais 0\n",
    "print('Visualizações:', match[1]) # note que não é mais 0"
   ]
  },
  {
   "cell_type": "code",
   "execution_count": 9,
   "metadata": {},
   "outputs": [
    {
     "name": "stdout",
     "output_type": "stream",
     "text": [
      "Visualizações: 1525\n",
      "Visualizações: 1525\n"
     ]
    }
   ],
   "source": [
    "# também é possível dar nome ao grupo\n",
    "match = re.search('\\((?P<visualizacoes>\\d+)\\)$', lista_top_10[0]) # note o grupo (\\d+) dentro dos delimitadores \\(\\)\n",
    "print('Visualizações:', match.group('visualizacoes')) # note o uso do nome\n",
    "print('Visualizações:', match['visualizacoes']) # note o uso do nome"
   ]
  },
  {
   "cell_type": "markdown",
   "metadata": {},
   "source": [
    "Agora é necessário obter o `<nome da obra>`.\n",
    "A heurística é que o `<nome da obra>` é todo o texto entre `. ` e ` by`.\n",
    "Portanto, como é possível fazer a captura de texto direto, podemos usar essas sequências para delimitar o nome da obra.\n",
    "\n",
    "Apenas um detalhe: `.` na expressão regular, sinigifa qualquer caractére, exceto o caractére de nova linha (`\\n`).\n",
    "Portanto, se desejamos obter o caractére `.`, é preciso usar `\\.`."
   ]
  },
  {
   "cell_type": "code",
   "execution_count": 13,
   "metadata": {},
   "outputs": [
    {
     "name": "stdout",
     "output_type": "stream",
     "text": [
      "The\n",
      "The\n",
      "The\n",
      "The\n"
     ]
    }
   ],
   "source": [
    "match = re.search('\\. (\\w+)', lista_top_10[0])\n",
    "print(match.group(1))\n",
    "print(match[1])\n",
    "\n",
    "match = re.search('\\.\\s(\\w+)', lista_top_10[0]) # note o uso de \\s para indicar um espaço em branco\n",
    "print(match.group(1))\n",
    "print(match[1])"
   ]
  },
  {
   "cell_type": "markdown",
   "metadata": {},
   "source": [
    "`\\w` captura qualquer litra, equivalente a `[a-z]`.\n",
    "\n",
    "Porém, no caso acima precisamos capturar um grupo com: letras, espaços e pontuação.\n",
    "\n",
    "Existem algumas formas para fazer isso, vamos começar explorando `[]`.\n",
    "\n",
    "A notação de `[]` em expressões regulares, permite definir opções.\n",
    "Por exemplo, `[01]` captura `0` ou `1`"
   ]
  },
  {
   "cell_type": "code",
   "execution_count": 19,
   "metadata": {},
   "outputs": [
    {
     "name": "stdout",
     "output_type": "stream",
     "text": [
      "1\n",
      "1\n",
      "0\n",
      "0\n",
      "True\n",
      "True\n",
      "a\n",
      "a\n",
      "t\n",
      "t\n",
      "True\n",
      "True\n",
      "a\n",
      "0\n"
     ]
    }
   ],
   "source": [
    "match = re.search('[01]', '1256')\n",
    "print(match[0])\n",
    "match = re.search('[01]', '2516')\n",
    "print(match[0])\n",
    "\n",
    "match = re.search('[01]', '0256')\n",
    "print(match[0])\n",
    "match = re.search('[01]', '2506')\n",
    "print(match[0])\n",
    "\n",
    "match = re.search('[01]', '256')\n",
    "print(match is None)\n",
    "match = re.search('[01]', '256')\n",
    "print(match is None)\n",
    "\n",
    "match = re.search('[at]', 'abv')\n",
    "print(match[0])\n",
    "match = re.search('[at]', 'abv')\n",
    "print(match[0])\n",
    "\n",
    "match = re.search('[at]', 'tbv')\n",
    "print(match[0])\n",
    "match = re.search('[at]', 'tbv')\n",
    "print(match[0])\n",
    "\n",
    "match = re.search('[at]', 'bv')\n",
    "print(match is None)\n",
    "match = re.search('[at]', 'bv')\n",
    "print(match is None)\n",
    "\n",
    "match = re.search('[a0]', 'a12')\n",
    "print(match[0])\n",
    "match = re.search('[a0]', '0bc')\n",
    "print(match[0])"
   ]
  },
  {
   "cell_type": "markdown",
   "metadata": {},
   "source": [
    "Outra opção, é que `[]` permite definir sequências.\n",
    "Por exemplo, `[0-9]` (números entre 0 e 9) ou `[a-z]` (todas as letras do alfabeto).\n",
    "\n",
    "Portanto, `\\d` é similar à `[0-9]` e `\\w` é similar à `[a-z]`.\n",
    "\n",
    "Assim, podemos usar `[]` para definir uma expressão que permite pegar o `<nome da obra>`"
   ]
  },
  {
   "cell_type": "code",
   "execution_count": 38,
   "metadata": {},
   "outputs": [
    {
     "name": "stdout",
     "output_type": "stream",
     "text": [
      "The Works of Edgar Allan Poe, The Raven Edition\n",
      "The Works of Edgar Allan Poe, The Raven Edition\n"
     ]
    }
   ],
   "source": [
    "match = re.search('\\. ([a-zA-Z,:;. ]+) by', lista_top_10[0])\n",
    "print(match[1])\n",
    "\n",
    "# note que [a-z] é diferente de [A-Z]\n",
    "# outra opção é fazer a regex case sensitive\n",
    "\n",
    "match = re.search('\\. ([a-z,:;. ]+) by', lista_top_10[0], flags=re.IGNORECASE)\n",
    "print(match[1])\n",
    "\n",
    "# note que . dentro de [] não significa qualquer caractére, mas exatamente .\n",
    "# ou seja, fora de [] é necessário \\. e dentro de [] apenas . é suficiente"
   ]
  },
  {
   "cell_type": "code",
   "execution_count": 28,
   "metadata": {},
   "outputs": [],
   "source": [
    "# falar (a|b)"
   ]
  },
  {
   "cell_type": "markdown",
   "metadata": {},
   "source": [
    "Finalmente, podemos capturar o nome do autor com uma expressão similar ao `<nome da obra>`."
   ]
  },
  {
   "cell_type": "code",
   "execution_count": 33,
   "metadata": {},
   "outputs": [
    {
     "name": "stdout",
     "output_type": "stream",
     "text": [
      "Edgar Allan Poe\n"
     ]
    }
   ],
   "source": [
    "match = re.search('by ([a-zA-Z\\s]+) \\(', lista_top_10[0])\n",
    "print(match[1])"
   ]
  },
  {
   "cell_type": "markdown",
   "metadata": {},
   "source": [
    "Agora podemos ver uma expressão completa para capturar todas as informações em cada linha."
   ]
  },
  {
   "cell_type": "code",
   "execution_count": 43,
   "metadata": {},
   "outputs": [
    {
     "name": "stdout",
     "output_type": "stream",
     "text": [
      "1\n",
      "The Works of Edgar Allan Poe, The Raven Edition\n",
      "Edgar Allan Poe\n",
      "1525\n",
      "1\n",
      "The Works of Edgar Allan Poe, The Raven Edition\n",
      "Edgar Allan Poe\n",
      "1525\n"
     ]
    }
   ],
   "source": [
    "regex = r'(?P<posicao>\\d+)\\. (?P<obra>[a-zA-Z,:;. ]+) by (?P<autor>[a-zA-Z ]+) \\((?P<visualizacoes>\\d+)\\)'\n",
    "match = re.search(regex, lista_top_10[0])\n",
    "print(match['posicao'])\n",
    "print(match['obra'])\n",
    "print(match['autor'])\n",
    "print(match['visualizacoes'])\n",
    "\n",
    "# opção em multiplas linhas\n",
    "\n",
    "match = re.search(\n",
    "    r'(?P<posicao>\\d+)\\. '\n",
    "    r'(?P<obra>[a-zA-Z,:;. ]+) '\n",
    "    r'by (?P<autor>[a-zA-Z ]+) '\n",
    "    r'\\((?P<visualizacoes>\\d+)\\)',\n",
    "    lista_top_10[0]\n",
    ")\n",
    "print(match['posicao'])\n",
    "print(match['obra'])\n",
    "print(match['autor'])\n",
    "print(match['visualizacoes'])"
   ]
  },
  {
   "cell_type": "markdown",
   "metadata": {},
   "source": [
    "Agora podemos mapear uma lista de obras para as informações relevantes.."
   ]
  },
  {
   "cell_type": "code",
   "execution_count": 46,
   "metadata": {},
   "outputs": [
    {
     "name": "stdout",
     "output_type": "stream",
     "text": [
      "(1, 'The Works of Edgar Allan Poe, The Raven Edition', 'Edgar Allan Poe', 1525)\n",
      "(2, 'Pride and Prejudice', 'Jane Austen', 1302)\n",
      "(3, 'Frankenstein; Or, The Modern Prometheus', 'Mary Wollstonecraft Shelley', 995)\n",
      "(4, 'A Modest Proposal', 'Jonathan Swift', 674)\n"
     ]
    },
    {
     "ename": "TypeError",
     "evalue": "'NoneType' object is not subscriptable",
     "output_type": "error",
     "traceback": [
      "\u001b[0;31m---------------------------------------------------------------------------\u001b[0m",
      "\u001b[0;31mTypeError\u001b[0m                                 Traceback (most recent call last)",
      "\u001b[0;32m<ipython-input-46-83cae5209d59>\u001b[0m in \u001b[0;36m<module>\u001b[0;34m\u001b[0m\n\u001b[1;32m     10\u001b[0m \u001b[0;34m\u001b[0m\u001b[0m\n\u001b[1;32m     11\u001b[0m \u001b[0mdados\u001b[0m \u001b[0;34m=\u001b[0m \u001b[0mmap\u001b[0m\u001b[0;34m(\u001b[0m\u001b[0mextrair_informacoes\u001b[0m\u001b[0;34m,\u001b[0m \u001b[0mlista_top_10\u001b[0m\u001b[0;34m)\u001b[0m\u001b[0;34m\u001b[0m\u001b[0;34m\u001b[0m\u001b[0m\n\u001b[0;32m---> 12\u001b[0;31m \u001b[0;32mfor\u001b[0m \u001b[0md\u001b[0m \u001b[0;32min\u001b[0m \u001b[0mdados\u001b[0m\u001b[0;34m:\u001b[0m\u001b[0;34m\u001b[0m\u001b[0;34m\u001b[0m\u001b[0m\n\u001b[0m\u001b[1;32m     13\u001b[0m     \u001b[0mprint\u001b[0m\u001b[0;34m(\u001b[0m\u001b[0md\u001b[0m\u001b[0;34m)\u001b[0m\u001b[0;34m\u001b[0m\u001b[0;34m\u001b[0m\u001b[0m\n",
      "\u001b[0;32m<ipython-input-46-83cae5209d59>\u001b[0m in \u001b[0;36mextrair_informacoes\u001b[0;34m(texto)\u001b[0m\n\u001b[1;32m      3\u001b[0m     \u001b[0mmatch\u001b[0m \u001b[0;34m=\u001b[0m \u001b[0mre\u001b[0m\u001b[0;34m.\u001b[0m\u001b[0msearch\u001b[0m\u001b[0;34m(\u001b[0m\u001b[0mregex\u001b[0m\u001b[0;34m,\u001b[0m \u001b[0mtexto\u001b[0m\u001b[0;34m)\u001b[0m\u001b[0;34m\u001b[0m\u001b[0;34m\u001b[0m\u001b[0m\n\u001b[1;32m      4\u001b[0m     return (\n\u001b[0;32m----> 5\u001b[0;31m         \u001b[0mint\u001b[0m\u001b[0;34m(\u001b[0m\u001b[0mmatch\u001b[0m\u001b[0;34m[\u001b[0m\u001b[0;34m'posicao'\u001b[0m\u001b[0;34m]\u001b[0m\u001b[0;34m)\u001b[0m\u001b[0;34m,\u001b[0m\u001b[0;34m\u001b[0m\u001b[0;34m\u001b[0m\u001b[0m\n\u001b[0m\u001b[1;32m      6\u001b[0m         \u001b[0mmatch\u001b[0m\u001b[0;34m[\u001b[0m\u001b[0;34m'obra'\u001b[0m\u001b[0;34m]\u001b[0m\u001b[0;34m,\u001b[0m\u001b[0;34m\u001b[0m\u001b[0;34m\u001b[0m\u001b[0m\n\u001b[1;32m      7\u001b[0m         \u001b[0mmatch\u001b[0m\u001b[0;34m[\u001b[0m\u001b[0;34m'autor'\u001b[0m\u001b[0;34m]\u001b[0m\u001b[0;34m,\u001b[0m\u001b[0;34m\u001b[0m\u001b[0;34m\u001b[0m\u001b[0m\n",
      "\u001b[0;31mTypeError\u001b[0m: 'NoneType' object is not subscriptable"
     ]
    }
   ],
   "source": [
    "def extrair_informacoes(texto):\n",
    "    regex = r'(?P<posicao>\\d+)\\. (?P<obra>[a-zA-Z,:;. ]+) by (?P<autor>[a-zA-Z ]+) \\((?P<visualizacoes>\\d+)\\)'\n",
    "    match = re.search(regex, texto)\n",
    "    return (\n",
    "        int(match['posicao']),\n",
    "        match['obra'],\n",
    "        match['autor'],\n",
    "        int(match['visualizacoes'])\n",
    "    )\n",
    "\n",
    "dados = map(extrair_informacoes, lista_top_10)\n",
    "for d in dados:\n",
    "    print(d)"
   ]
  },
  {
   "cell_type": "code",
   "execution_count": null,
   "metadata": {},
   "outputs": [],
   "source": []
  }
 ],
 "metadata": {
  "kernelspec": {
   "display_name": "Python 3",
   "language": "python",
   "name": "python3"
  },
  "language_info": {
   "codemirror_mode": {
    "name": "ipython",
    "version": 3
   },
   "file_extension": ".py",
   "mimetype": "text/x-python",
   "name": "python",
   "nbconvert_exporter": "python",
   "pygments_lexer": "ipython3",
   "version": "3.6.8"
  }
 },
 "nbformat": 4,
 "nbformat_minor": 2
}
